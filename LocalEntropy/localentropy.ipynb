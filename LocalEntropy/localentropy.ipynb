{
 "cells": [
  {
   "cell_type": "code",
   "execution_count": null,
   "id": "0eb38773",
   "metadata": {},
   "outputs": [],
   "source": [
    "import numpy as np\n",
    "import pandas as pd\n",
    "import seaborn as sns\n",
    "import matplotlib.pyplot as plt\n",
    "from os import listdir\n",
    "from os.path import isfile"
   ]
  },
  {
   "cell_type": "code",
   "execution_count": null,
   "id": "c265a7b1",
   "metadata": {},
   "outputs": [],
   "source": [
    "raw_results_dir = 'results'\n",
    "plots_dir = 'plots'\n",
    "\n",
    "plt.rcParams.update({'font.size': 13})"
   ]
  },
  {
   "cell_type": "code",
   "execution_count": null,
   "id": "12ba880d",
   "metadata": {},
   "outputs": [],
   "source": [
    "def load_curves(files):\n",
    "    S, dS = pd.DataFrame(), pd.DataFrame()\n",
    "    for idx in range(len(files)):\n",
    "        \n",
    "        # Save wt and gammas\n",
    "        if idx == 0:\n",
    "            file = files['wt' in np.array(files)]\n",
    "            with open(file, 'r') as f:\n",
    "                lines.readlines()\n",
    "            S['gamma'] = [float(line.split('\\t')[0]) for line in lines]\n",
    "            S['wt'] = [float(line.split('\\t')[1]) for line in lines]\n",
    "            dS['gamma'] = [float(line.split('\\t')[0]) for line in lines]\n",
    "            dS['wt'] = [float(line.split('\\t')[2]) for line in lines]\n",
    "        \n",
    "        # Save mts\n",
    "        else:\n",
    "            file = files[f'mt{idx + 1}' in np.array(files)]\n",
    "            with open(file, 'r') as f:\n",
    "                lines.readlines()\n",
    "            S[f'mt{idx + 1}'] = [float(line.split('\\t')[1]) for line in lines]\n",
    "            dS[f'mt{idx + 1}'] = [float(line.split('\\t')[2]) for line in lines]\n",
    "    \n",
    "    return S, dS"
   ]
  },
  {
   "cell_type": "code",
   "execution_count": null,
   "id": "cd37e9d9",
   "metadata": {},
   "outputs": [],
   "source": [
    "protein = '1PGB'\n",
    "T = 0.005\n",
    "results_dir = f'{raw_results_dir}/{protein}_T{T}'"
   ]
  },
  {
   "cell_type": "code",
   "execution_count": null,
   "id": "5607a558",
   "metadata": {},
   "outputs": [],
   "source": [
    "Simp_files = [filename for filename in listdir(results_dir) if isfile(f'{results_dir}/{filename}') and ('Simpson' in filename)]\n",
    "MidP_files = [filename for filename in listdir(results_dir) if isfile(f'{results_dir}/{filename}') and ('MidPoint' in filename)]\n",
    "num_curves = len(Simp_files)\n",
    "\n",
    "Simp_S, Simp_dS = load_curves(Simp_files)\n",
    "MidP_S, MidP_dS = load_curves(MidP_files)"
   ]
  },
  {
   "cell_type": "markdown",
   "id": "5e7ed3db",
   "metadata": {},
   "source": [
    "---\n",
    "### Local Entropy curve"
   ]
  },
  {
   "cell_type": "code",
   "execution_count": null,
   "id": "e6247c3e",
   "metadata": {},
   "outputs": [],
   "source": [
    "fig = plt.figure(figsize = (15, 12))\n",
    "fig.suptitle(f'Protein {protein} Local Entropy ' + r'$S_{\\beta, \\gamma}$ curve estimate' + f'\\n(T = {T})')\n",
    "\n",
    "# Simpson\n",
    "ax = plt.subplot(2, 1, 1)\n",
    "ax.set_title(f'Simpson integration method')\n",
    "for idx in range(num_curves):\n",
    "    if idx == 0: \n",
    "        key = 'wt'\n",
    "        label = 'wild-type'\n",
    "    else: \n",
    "        key = f'mt{idx + 1}'\n",
    "        label = f'mutant {idx + 1}'\n",
    "        \n",
    "    gamma, S = Simp_S['gamma'], Simp_S[key]\n",
    "    ax.plot(gamma, S, label = label)\n",
    "\n",
    "ax.legend()\n",
    "ax.grid()\n",
    "\n",
    "# MidPoint\n",
    "ax = plt.subplot(2, 1, 2)\n",
    "ax.set_title(f'MidPoint integration method')\n",
    "for idx in range(num_curves):\n",
    "    if idx == 0: \n",
    "        key = 'wt'\n",
    "        label = 'wild-type'\n",
    "    else: \n",
    "        key = f'mt{idx + 1}'\n",
    "        label = f'mutant {idx + 1}'\n",
    "        \n",
    "    gamma, S = MidP_S['gamma'], MidP_S[key]\n",
    "    ax.plot(gamma, S, label = label)\n",
    "\n",
    "ax.legend()\n",
    "ax.grid();"
   ]
  },
  {
   "cell_type": "markdown",
   "id": "4f68c3a9",
   "metadata": {},
   "source": [
    "### Local Entropy derivative"
   ]
  },
  {
   "cell_type": "code",
   "execution_count": null,
   "id": "eb01abad",
   "metadata": {},
   "outputs": [],
   "source": [
    "fig = plt.figure(figsize = (15, 12))\n",
    "fig.suptitle(f'Protein {protein} Local Entropy derivative ' + r'$d_{\\gamma}S_{\\beta, \\gamma}$ curve estimate' + f'\\n(T = {T})')\n",
    "\n",
    "# Simpson\n",
    "ax = plt.subplot(2, 1, 1)\n",
    "ax.set_title(f'Simpson integration method')\n",
    "for idx in range(num_curves):\n",
    "    if idx == 0: \n",
    "        key = 'wt'\n",
    "        label = 'wild-type'\n",
    "    else: \n",
    "        key = f'mt{idx + 1}'\n",
    "        label = f'mutant {idx + 1}'\n",
    "        \n",
    "    gamma, dS = Simp_dS['gamma'], Simp_dS[key]\n",
    "    ax.plot(gamma, dS, label = label)\n",
    "\n",
    "ax.legend()\n",
    "ax.grid()\n",
    "\n",
    "# MidPoint\n",
    "ax = plt.subplot(2, 1, 2)\n",
    "ax.set_title(f'MidPoint integration method')\n",
    "for idx in range(num_curves):\n",
    "    if idx == 0: \n",
    "        key = 'wt'\n",
    "        label = 'wild-type'\n",
    "    else: \n",
    "        key = f'mt{idx + 1}'\n",
    "        label = f'mutant {idx + 1}'\n",
    "        \n",
    "    gamma, dS = MidP_dS['gamma'], MidP_dS[key]\n",
    "    ax.plot(gamma, dS, label = label)\n",
    "\n",
    "ax.legend()\n",
    "ax.grid();"
   ]
  },
  {
   "cell_type": "markdown",
   "id": "c275cb55",
   "metadata": {},
   "source": [
    "---\n",
    "### Local Entropy peak distribution"
   ]
  },
  {
   "cell_type": "code",
   "execution_count": null,
   "id": "0dd00ff3",
   "metadata": {},
   "outputs": [],
   "source": [
    "gamma_min = np.min(Simp_S['gamma'])\n",
    "Simp_S_min = Simp_S.loc[gamma_min, :]\n",
    "MidP_S_min = MidP_S.loc[gamma_min, :]\n",
    "columns = list(Simp_S.columns)\n",
    "columns.remove('gamma')\n",
    "\n",
    "sns_df = pd.DataFrame({\n",
    "    'protein_type': columns + columns,\n",
    "    'S': Simp_S_min + MidP_S_min,\n",
    "    'method': ['Simpson'] * len(columns) + ['MidPoint'] *  * len(columns)\n",
    "})"
   ]
  },
  {
   "cell_type": "code",
   "execution_count": null,
   "id": "e0b85f77",
   "metadata": {},
   "outputs": [],
   "source": [
    "sns.catplot(data = sns_df, \n",
    "            kind = \"swarm\", \n",
    "            x = \"method\", y = \"S\", hue = \"protein_types\")"
   ]
  },
  {
   "cell_type": "code",
   "execution_count": null,
   "id": "961785c6",
   "metadata": {},
   "outputs": [],
   "source": []
  },
  {
   "cell_type": "code",
   "execution_count": null,
   "id": "2b4e0f14",
   "metadata": {},
   "outputs": [],
   "source": []
  },
  {
   "cell_type": "code",
   "execution_count": null,
   "id": "ae3f9f44",
   "metadata": {},
   "outputs": [],
   "source": []
  }
 ],
 "metadata": {
  "kernelspec": {
   "display_name": "Python 3",
   "language": "python",
   "name": "python3"
  },
  "language_info": {
   "codemirror_mode": {
    "name": "ipython",
    "version": 3
   },
   "file_extension": ".py",
   "mimetype": "text/x-python",
   "name": "python",
   "nbconvert_exporter": "python",
   "pygments_lexer": "ipython3",
   "version": "3.6.8"
  }
 },
 "nbformat": 4,
 "nbformat_minor": 5
}
