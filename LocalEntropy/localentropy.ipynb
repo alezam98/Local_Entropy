{
 "cells": [
  {
   "cell_type": "code",
   "execution_count": null,
   "id": "0eb38773",
   "metadata": {},
   "outputs": [],
   "source": [
    "import numpy as np\n",
    "import pandas as pd\n",
    "import seaborn as sns\n",
    "import matplotlib.pyplot as plt\n",
    "from os import listdir\n",
    "from os.path import isfile"
   ]
  },
  {
   "cell_type": "code",
   "execution_count": null,
   "id": "8de5f442",
   "metadata": {},
   "outputs": [],
   "source": [
    "results_dir = 'results'\n",
    "protein = '1PGB'\n",
    "plots_dir = 'plots'\n",
    "\n",
    "plt.rcParams.update({'font.size': 13})"
   ]
  },
  {
   "cell_type": "code",
   "execution_count": null,
   "id": "12ba880d",
   "metadata": {},
   "outputs": [],
   "source": [
    "def get_params(files):\n",
    "    Ts, thresholds = [], []\n",
    "    for file in files:\n",
    "        raw_params = file.split('_')[2:]\n",
    "        T = float(raw_params[0][1] + '.' + raw_params[0][2:])\n",
    "        threshold = float(raw_params[1][1] + '.' + raw_params[2:-4])\n",
    "        Ts.append(T)\n",
    "        thresholds.append(threshold)\n",
    "    T = np.unique(Ts)\n",
    "    threshold = np.unique(thresholds)\n",
    "    assert len(T) == 1, 'Too many temperatures'\n",
    "    assert len(threshold) == 1, 'Too many thresholds'\n",
    "    return T[0], threshold[0]\n",
    "\n",
    "def load_data(files):\n",
    "    S_df, dS_df = pd.DataFrame(), pd.DataFrame()\n",
    "    for ifile, file in enumerate(files):\n",
    "        protein_type = file.split('_')[1]        \n",
    "        with open(f'{results_dir}/{protein}/{file}', 'r') as file:\n",
    "            lines = file.readlines()\n",
    "        \n",
    "        if ifile == 0:\n",
    "            gamma = [float(line.split('\\t')[0]) for line in lines]\n",
    "            S_df['gamma'] = gamma\n",
    "            dS_df['gamma'] = gamma\n",
    "            \n",
    "        S = [float(line.split('\\t')[1]) for line in lines]\n",
    "        dS = [float(line.split('\\t')[2]) for line in lines]\n",
    "        \n",
    "        S_df[protein_type] = S\n",
    "        dS_df[protein_type] = dS\n",
    "    return S_df, dS_df"
   ]
  },
  {
   "cell_type": "code",
   "execution_count": null,
   "id": "cd37e9d9",
   "metadata": {},
   "outputs": [],
   "source": [
    "Simpson_files = [filename for filename in listdir(f'{results_dir}/{protein}') if isfile(f'{results_dir}/{protein}/{filename}') and ('Simpson' in filename)]\n",
    "MidPoint_files = [filename for filename in listdir(f'{results_dir}/{protein}') if isfile(f'{results_dir}/{protein}/{filename}') and ('MidPoint' in filename)]\n",
    "\n",
    "Simpson_S_df, Simpson_dS_df = load_data(Simpson_files)\n",
    "MidPoint_S_df, MidPoint_dS_df = load_data(MidPoint_files)\n",
    "T, threshold = get_params(Simpson_files + MidPoint_files)"
   ]
  },
  {
   "cell_type": "code",
   "execution_count": null,
   "id": "080116d7",
   "metadata": {},
   "outputs": [],
   "source": [
    "keys = ['wt, mtsim, mtexp']\n",
    "labels = ['wild-type', 'simulated mutants', 'experimental mutants']\n",
    "colors = ['red', 'blue', 'green']"
   ]
  },
  {
   "cell_type": "markdown",
   "id": "5e7ed3db",
   "metadata": {},
   "source": [
    "---\n",
    "---\n",
    "### Local Entropy curve"
   ]
  },
  {
   "cell_type": "code",
   "execution_count": null,
   "id": "e6247c3e",
   "metadata": {},
   "outputs": [],
   "source": [
    "fig = plt.figure(figsize = (12, 8))\n",
    "fig.suptitle(r'Local Entropy $S_{\\beta, \\gamma}$ curve estimate')\n",
    "\n",
    "# Simpson\n",
    "ax = plt.subplot(2, 1, 1)\n",
    "ax.title(f'Simpson integration method\\n(threshold = {threshold}, T = {T})')\n",
    "for key, label, color in zip(keys, labels, colors):\n",
    "    mask = [key in column for column in Simpson_S_df]\n",
    "    masked_df = Simpson_S_df.iloc[:, mask]\n",
    "    for icol, column in enumerate(masked_df.columns):\n",
    "        if icol == 0:\n",
    "            ax.plot(masked_df.loc[:, 'gamma'], masked_df.loc[:, column], linestyle = '--', color = color, label = label)\n",
    "        else:\n",
    "            ax.plot(masked_df.loc[:, 'gamma'], masked_df.loc[:, column], linestyle = '--', color = color)\n",
    "ax.set_xlim([0., np.max(Simpson_S_df['gamma'])])\n",
    "ax.legend()\n",
    "ax.grid(True)\n",
    "\n",
    "# MidPoint\n",
    "ax = plt.subplot(2, 1, 2)\n",
    "ax.title(f'MidPoint integration method\\n(threshold = {threshold}, T = {T})')\n",
    "for key, label, color in zip(keys, labels, colors):\n",
    "    mask = [key in column for column in MidPoint_S_df]\n",
    "    masked_df = MidPoint_S_df.iloc[:, mask]\n",
    "    for icol, column in enumerate(masked_df.columns):\n",
    "        if icol == 0:\n",
    "            ax.plot(masked_df.loc[:, 'gamma'], masked_df.loc[:, column], linestyle = '--', color = color, label = label)\n",
    "        else:\n",
    "            ax.plot(masked_df.loc[:, 'gamma'], masked_df.loc[:, column], linestyle = '--', color = color)\n",
    "ax.set_xlim([0., np.max(MidPoint_S_df['gamma'])])\n",
    "ax.legend()\n",
    "ax.grid(True);"
   ]
  },
  {
   "cell_type": "code",
   "execution_count": null,
   "id": "9341bc11",
   "metadata": {},
   "outputs": [],
   "source": [
    "import matplotlib.pyplot as plt\n",
    "import matplotlib.text as mtext\n",
    "\n",
    "class LegendTitle(object):\n",
    "    def __init__(self, text_props=None):\n",
    "        self.text_props = text_props or {}\n",
    "        super(LegendTitle, self).__init__()\n",
    "\n",
    "    def legend_artist(self, legend, orig_handle, fontsize, handlebox):\n",
    "        x0, y0 = handlebox.xdescent, handlebox.ydescent\n",
    "        title = mtext.Text(x0, y0, orig_handle,  **self.text_props)\n",
    "        handlebox.add_artist(title)\n",
    "        return title"
   ]
  },
  {
   "cell_type": "code",
   "execution_count": null,
   "id": "7c3f8f90",
   "metadata": {},
   "outputs": [],
   "source": [
    "fig = plt.figure(figsize = (12, 8))\n",
    "fig.suptitle(r'Local Entropy $S_{\\beta, \\gamma}$ curve estimate', y = 0.96)\n",
    "\n",
    "ax = plt.subplot(1, 1, 1)\n",
    "Simpson_scatters, MidPoint_scatters = [], []\n",
    "for key, label, color in zip(keys, labels, colors):\n",
    "    mask = [key in column for column in Simpson_S_df]\n",
    "    \n",
    "    # Simpson\n",
    "    masked_df = Simpson_S_df.iloc[:, mask]\n",
    "    for icol, column in enumerate(masked_df.columns):\n",
    "        if icol == 0:\n",
    "            Simpson_scatters += ax.scatter(masked_df.loc[:, 'gamma'], masked_df.loc[:, column], '^', color = color, label = label)\n",
    "        else:\n",
    "            ax.scatter(masked_df.loc[:, 'gamma'], masked_df.loc[:, column], linestyle = '--', color = color)\n",
    "    \n",
    "    # MidPoint\n",
    "    masked_df = MidPoint_S_df.iloc[:, mask]\n",
    "    for icol, column in enumerate(masked_df.columns):\n",
    "        if icol == 0:\n",
    "            MidPoint_scatters += ax.scatter(masked_df.loc[:, 'gamma'], masked_df.loc[:, column], 's', color = color, label = label)\n",
    "        else:\n",
    "            ax.scatter(masked_df.loc[:, 'gamma'], masked_df.loc[:, column], linestyle = '--', color = color)\n",
    "\n",
    "ax.set_xlim([0., np.max(Simpson_S_df['gamma'])])\n",
    "ax.grid(True)\n",
    "ax.legend(\n",
    "    ['Simpson'] + Simpson_scatters + [''] + ['MidPoint'] + MidPoint_scatters, \n",
    "    [''] + labels + [''] + [''] + labels,\n",
    "    handler_map = {str: LegendTitle({'fontsize': 13})},\n",
    "    bbox_to_anchor = (1, 1),\n",
    "    handlelength = 5\n",
    ");"
   ]
  },
  {
   "cell_type": "markdown",
   "id": "c275cb55",
   "metadata": {},
   "source": [
    "---\n",
    "---\n",
    "### Local Entropy peak distribution"
   ]
  },
  {
   "cell_type": "code",
   "execution_count": null,
   "id": "0dd00ff3",
   "metadata": {},
   "outputs": [],
   "source": [
    "protein_types = []\n",
    "Simpson = []\n",
    "MidPoint = []\n",
    "for key in keys:\n",
    "    mask = [key in column for column in Simpson_S_df]\n",
    "    protein_types = protein_types + [key] * np.array(mask, dtype = int).sum()\n",
    "    Simpson = Simpson + list(Simpson_S_df.iloc[-1, mask])\n",
    "    MidPoint = MidPoint + list(MidPoint_S_df.iloc[-1, mask])\n",
    "    \n",
    "sns_df = pd.DataFrame({\n",
    "    'protein_types': protein_types + protein_types,\n",
    "    'S': Simpson + MidPoint,\n",
    "    'method': ['Simpson'] * len(protein_types) + ['MidPoint'] *  * len(protein_types)\n",
    "})"
   ]
  },
  {
   "cell_type": "code",
   "execution_count": null,
   "id": "e0b85f77",
   "metadata": {},
   "outputs": [],
   "source": [
    "sns.catplot(data = sns_df, \n",
    "            kind = \"swarm\", \n",
    "            x = \"method\", y = \"S\", hue = \"protein_types\")"
   ]
  },
  {
   "cell_type": "code",
   "execution_count": null,
   "id": "961785c6",
   "metadata": {},
   "outputs": [],
   "source": []
  },
  {
   "cell_type": "code",
   "execution_count": null,
   "id": "2b4e0f14",
   "metadata": {},
   "outputs": [],
   "source": []
  },
  {
   "cell_type": "code",
   "execution_count": null,
   "id": "ae3f9f44",
   "metadata": {},
   "outputs": [],
   "source": []
  },
  {
   "cell_type": "code",
   "execution_count": null,
   "id": "518cdfd1",
   "metadata": {},
   "outputs": [],
   "source": []
  },
  {
   "cell_type": "code",
   "execution_count": null,
   "id": "483968b8",
   "metadata": {},
   "outputs": [],
   "source": []
  },
  {
   "cell_type": "code",
   "execution_count": null,
   "id": "01c41b1b",
   "metadata": {},
   "outputs": [],
   "source": []
  },
  {
   "cell_type": "code",
   "execution_count": null,
   "id": "d2730240",
   "metadata": {},
   "outputs": [],
   "source": []
  },
  {
   "cell_type": "code",
   "execution_count": null,
   "id": "62efd9a7",
   "metadata": {},
   "outputs": [],
   "source": []
  },
  {
   "cell_type": "code",
   "execution_count": null,
   "id": "b9500383",
   "metadata": {},
   "outputs": [],
   "source": []
  },
  {
   "cell_type": "code",
   "execution_count": null,
   "id": "8b835b92",
   "metadata": {},
   "outputs": [],
   "source": []
  },
  {
   "cell_type": "code",
   "execution_count": null,
   "id": "8fc00365",
   "metadata": {},
   "outputs": [],
   "source": []
  },
  {
   "cell_type": "code",
   "execution_count": null,
   "id": "3b9d3c7a",
   "metadata": {},
   "outputs": [],
   "source": []
  },
  {
   "cell_type": "code",
   "execution_count": null,
   "id": "62cc09ad",
   "metadata": {},
   "outputs": [],
   "source": []
  },
  {
   "cell_type": "code",
   "execution_count": null,
   "id": "c257102e",
   "metadata": {},
   "outputs": [],
   "source": []
  },
  {
   "cell_type": "code",
   "execution_count": null,
   "id": "395585b5",
   "metadata": {},
   "outputs": [],
   "source": []
  },
  {
   "cell_type": "code",
   "execution_count": null,
   "id": "d4791fa6",
   "metadata": {},
   "outputs": [],
   "source": []
  }
 ],
 "metadata": {
  "kernelspec": {
   "display_name": "Python 3",
   "language": "python",
   "name": "python3"
  },
  "language_info": {
   "codemirror_mode": {
    "name": "ipython",
    "version": 3
   },
   "file_extension": ".py",
   "mimetype": "text/x-python",
   "name": "python",
   "nbconvert_exporter": "python",
   "pygments_lexer": "ipython3",
   "version": "3.6.8"
  }
 },
 "nbformat": 4,
 "nbformat_minor": 5
}
